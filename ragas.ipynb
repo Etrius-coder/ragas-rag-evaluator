{
 "cells": [
  {
   "cell_type": "code",
   "execution_count": null,
   "id": "80db6326",
   "metadata": {},
   "outputs": [],
   "source": [
    "from langchain_community.document_loaders import PyPDFLoader\n",
    "from langchain.text_splitter import RecursiveCharacterTextSplitter\n",
    "import os\n",
    "\n",
    "# Define the path to the PDF file\n",
    "# Making sure the PDF file is in the same directory or provides the correct path\n",
    "file_path = \"your_document.pdf\" \n",
    "\n",
    "if not os.path.exists(file_path):\n",
    "    print(f\"Error: The file '{file_path}' was not found.\")\n",
    "else:\n",
    "    # Load the document\n",
    "    loader = PyPDFLoader(file_path)\n",
    "    documents = loader.load()\n",
    "\n",
    "    # Split the document into chunks\n",
    "    text_splitter = RecursiveCharacterTextSplitter(chunk_size=1000, chunk_overlap=100)\n",
    "    chunks = text_splitter.split_documents(documents)\n",
    "    \n",
    "    print(f\"Loaded {len(documents)} document(s) and split into {len(chunks)} chunks.\")"
   ]
  },
  {
   "cell_type": "code",
   "execution_count": null,
   "id": "9029080b",
   "metadata": {},
   "outputs": [],
   "source": [
    "from langchain_community.embeddings import OllamaEmbeddings\n",
    "from langchain_community.vectorstores import Chroma\n",
    "\n",
    "embeddings_model = OllamaEmbeddings(model=\"llama2\")\n",
    "\n",
    "vector_store = Chroma.from_documents(\n",
    "    chunks,\n",
    "    embeddings_model,\n",
    "    persist_directory=\"./rag_db\"\n",
    ")\n",
    "\n",
    "print(\"Vector store created and saved to './rag_db'\")"
   ]
  },
  {
   "cell_type": "code",
   "execution_count": null,
   "id": "f2349c66",
   "metadata": {},
   "outputs": [],
   "source": [
    "from langchain_community.llms import Ollama\n",
    "from langchain.chains import RetrievalQA\n",
    "\n",
    "llm = Ollama(model=\"llama2\")\n",
    "\n",
    "retriever = vector_store.as_retriever()\n",
    "\n",
    "rag_chain = RetrievalQA.from_chain_type(\n",
    "    llm=llm,\n",
    "    retriever=retriever,\n",
    "    return_source_documents=True\n",
    ")\n",
    "\n",
    "print(\"RAG chain initialized with Ollama.\")"
   ]
  },
  {
   "cell_type": "code",
   "execution_count": null,
   "id": "d66c7398",
   "metadata": {},
   "outputs": [],
   "source": [
    "query = \"Enter your query here! E.g Compile the most important talking points in the document\"\n",
    "\n",
    "# Use the RAG chain to get a response\n",
    "response = rag_chain.invoke({\"query\": query})\n",
    "\n",
    "# Print the generated answer and the source documents that were used\n",
    "print(\"\\n--- Answer ---\")\n",
    "print(response[\"result\"])\n",
    "\n",
    "print(\"\\n--- Sources ---\")\n",
    "for doc in response[\"source_documents\"]:\n",
    "    print(f\"Source: {doc.metadata.get('source', 'Unknown')}\")\n",
    "    print(f\"Content: {doc.page_content[:200]}...\") # Print a snippet of the content"
   ]
  },
  {
   "cell_type": "code",
   "execution_count": null,
   "id": "221a29b2",
   "metadata": {},
   "outputs": [],
   "source": []
  }
 ],
 "metadata": {
  "kernelspec": {
   "display_name": "venv",
   "language": "python",
   "name": "python3"
  },
  "language_info": {
   "codemirror_mode": {
    "name": "ipython",
    "version": 3
   },
   "file_extension": ".py",
   "mimetype": "text/x-python",
   "name": "python",
   "nbconvert_exporter": "python",
   "pygments_lexer": "ipython3",
   "version": "3.13.5"
  }
 },
 "nbformat": 4,
 "nbformat_minor": 5
}
